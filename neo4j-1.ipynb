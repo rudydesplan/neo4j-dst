{
 "cells": [
  {
   "cell_type": "markdown",
   "metadata": {},
   "source": [
    "# Les unités de mesures utilisées sont distances : metres , temps : minutes , vitesse : metres / minutes dans un souci d'uniformisation"
   ]
  },
  {
   "cell_type": "markdown",
   "metadata": {},
   "source": [
    "# Étape 1: Création des nœuds pour les stations"
   ]
  },
  {
   "cell_type": "code",
   "execution_count": null,
   "metadata": {
    "vscode": {
     "languageId": "ruby"
    }
   },
   "outputs": [],
   "source": [
    "LOAD CSV WITH HEADERS FROM 'https://raw.githubusercontent.com/pauldechorgnat/cool-datasets/master/ratp/stations.csv' AS row\n",
    "CREATE (s:Station {\n",
    "    name: row.nom_clean, \n",
    "    line: toInteger(row.ligne), \n",
    "    lat: toFloat(row.x), \n",
    "    lon: toFloat(row.y), \n",
    "    nom_gare: row.nom_gare, \n",
    "    traffic: toInteger(row.Trafic), \n",
    "    city: row.Ville\n",
    "});"
   ]
  },
  {
   "cell_type": "markdown",
   "metadata": {},
   "source": [
    "# Étape 2: Création des relations entre stations de la même ligne"
   ]
  },
  {
   "cell_type": "code",
   "execution_count": null,
   "metadata": {
    "vscode": {
     "languageId": "ruby"
    }
   },
   "outputs": [],
   "source": [
    "LOAD CSV WITH HEADERS FROM 'https://raw.githubusercontent.com/pauldechorgnat/cool-datasets/master/ratp/liaisons.csv' AS row\n",
    "MATCH (start:Station {name: row.start}), (stop:Station {name: row.stop})\n",
    "WHERE start.line = toInteger(row.ligne) AND stop.line = toInteger(row.ligne)\n",
    "MERGE (start)-[:CONNECTS_TO {mode: 'train', speed: 2000/3}]->(stop);"
   ]
  },
  {
   "cell_type": "markdown",
   "metadata": {},
   "source": [
    "# Étape 3: Création des relations de correspondance entre les lignes d'une même station"
   ]
  },
  {
   "cell_type": "code",
   "execution_count": null,
   "metadata": {
    "vscode": {
     "languageId": "ruby"
    }
   },
   "outputs": [],
   "source": [
    "MATCH (s1:Station), (s2:Station)\n",
    "WHERE s1.name = s2.name AND s1.line <> s2.line\n",
    "MERGE (s1)-[:CORRESPONDENCE {time: 4}]->(s2);"
   ]
  },
  {
   "cell_type": "markdown",
   "metadata": {},
   "source": [
    "# Étape 4: Création des relations pour les déplacements à pied"
   ]
  },
  {
   "cell_type": "code",
   "execution_count": null,
   "metadata": {
    "vscode": {
     "languageId": "ruby"
    }
   },
   "outputs": [],
   "source": [
    "MATCH (s1:Station), (s2:Station)\n",
    "WHERE s1 <> s2 AND SQRT((s1.lat - s2.lat)^2 + (s1.lon - s2.lon)^2) < 1000\n",
    "MERGE (s1)-[:WALK_TO {speed: 200/3}]->(s2);"
   ]
  }
 ],
 "metadata": {
  "language_info": {
   "name": "python"
  },
  "orig_nbformat": 4
 },
 "nbformat": 4,
 "nbformat_minor": 2
}
