{
 "cells": [
  {
   "cell_type": "markdown",
   "metadata": {},
   "source": [
    "# Quel est le nombre de correspondances par station ?"
   ]
  },
  {
   "cell_type": "code",
   "execution_count": null,
   "metadata": {
    "vscode": {
     "languageId": "ruby"
    }
   },
   "outputs": [],
   "source": [
    "MATCH (s:Station)-[r:CORRESPONDENCE]->(t:Station)\n",
    "WITH s, COLLECT(DISTINCT t) AS CorrespondingStations\n",
    "RETURN s.name AS StationName, COUNT(DISTINCT CorrespondingStations) AS NumberOfDistinctCorrespondences\n",
    "ORDER BY NumberOfDistinctCorrespondences DESC;"
   ]
  },
  {
   "cell_type": "markdown",
   "metadata": {},
   "source": [
    "# Quel est le nombre de stations à moins de deux kilomètres de la station LADEFENSE (on pourra prendre la distance brute sans considération de relation) ?"
   ]
  },
  {
   "cell_type": "code",
   "execution_count": null,
   "metadata": {
    "vscode": {
     "languageId": "ruby"
    }
   },
   "outputs": [],
   "source": [
    "MATCH (s:Station {name: \"LADEFENSE\"}), (other:Station)\n",
    "WHERE s <> other AND SQRT((s.lat - other.lat)^2 + (s.lon - other.lon)^2) < 2000\n",
    "RETURN COUNT(other) as StationsWithin2km"
   ]
  },
  {
   "cell_type": "markdown",
   "metadata": {},
   "source": [
    "# Combien de temps faut-il pour aller en metro de LADEFENSE à CHATEAUDEVINCENNES ?  "
   ]
  },
  {
   "cell_type": "markdown",
   "metadata": {},
   "source": [
    " \n",
    "Vous devez avoir installer les librairies APOC et GDS et dans le config file avoir :\n",
    "dbms.security.procedures.unrestricted=jwt.security.*,apoc.*,gds.*\n",
    "\n",
    "Executer les 4 querry suivantes"
   ]
  },
  {
   "cell_type": "code",
   "execution_count": null,
   "metadata": {
    "vscode": {
     "languageId": "ruby"
    }
   },
   "outputs": [],
   "source": [
    "MATCH (s1:Station)-[r:CONNECTS_TO]->(s2:Station)\n",
    "WITH s1, s2, r, SQRT((s1.lat - s2.lat)^2 + (s1.lon - s2.lon)^2) as distance\n",
    "SET r.distance = distance"
   ]
  },
  {
   "cell_type": "code",
   "execution_count": null,
   "metadata": {
    "vscode": {
     "languageId": "ruby"
    }
   },
   "outputs": [],
   "source": [
    "MATCH (s1:Station)-[r:CONNECTS_TO]->(s2:Station)\n",
    "WITH s1, s2, r, r.distance as distance\n",
    "SET r.time = distance / r.speed"
   ]
  },
  {
   "cell_type": "code",
   "execution_count": null,
   "metadata": {
    "vscode": {
     "languageId": "ruby"
    }
   },
   "outputs": [],
   "source": [
    "MATCH (s1:Station)-[r:WALK_TO]->(s2:Station)\n",
    "WITH s1, s2, r, SQRT((s1.lat - s2.lat)^2 + (s1.lon - s2.lon)^2) as distance\n",
    "SET r.distance = distance"
   ]
  },
  {
   "cell_type": "code",
   "execution_count": null,
   "metadata": {
    "vscode": {
     "languageId": "ruby"
    }
   },
   "outputs": [],
   "source": [
    "MATCH (s1:Station)-[r:WALK_TO]->(s2:Station)\n",
    "WITH s1, s2, r, r.distance as distance\n",
    "SET r.time = distance / r.speed"
   ]
  },
  {
   "cell_type": "code",
   "execution_count": null,
   "metadata": {
    "vscode": {
     "languageId": "ruby"
    }
   },
   "outputs": [],
   "source": [
    "// CALL gds.graph.drop('my_graph');\n",
    "\n",
    "CALL gds.graph.project(\n",
    "    'my_graph',\n",
    "    {\n",
    "        Station: {\n",
    "            label: 'Station',\n",
    "            properties: {\n",
    "                line: 'line',\n",
    "                lat: 'lat',\n",
    "                lon: 'lon',\n",
    "                traffic: 'traffic'\n",
    "            }\n",
    "        }\n",
    "    },\n",
    "    {\n",
    "        CONNECTS_TO: {\n",
    "            type: 'CONNECTS_TO',\n",
    "            properties: {\n",
    "                speed: 'speed',\n",
    "                distance: 'distance',\n",
    "                time: 'time'\n",
    "            }\n",
    "        },\n",
    "        CORRESPONDENCE: {\n",
    "            type: 'CORRESPONDENCE',\n",
    "            properties: {\n",
    "                time: 'time'\n",
    "            }\n",
    "        },\n",
    "        WALK_TO: {\n",
    "            type: 'WALK_TO',\n",
    "            properties: {\n",
    "                speed: 'speed',\n",
    "                distance: 'distance',\n",
    "                time: 'time'\n",
    "            }\n",
    "        }\n",
    "    }\n",
    ")"
   ]
  },
  {
   "cell_type": "code",
   "execution_count": null,
   "metadata": {
    "vscode": {
     "languageId": "ruby"
    }
   },
   "outputs": [],
   "source": [
    "MATCH (start:Station {name: 'LADEFENSE'}), (end:Station {name: 'CHATEAUDEVINCENNES'})\n",
    "CALL gds.shortestPath.dijkstra.stream('my_graph', {\n",
    "    sourceNode: start,\n",
    "    targetNode: end,\n",
    "    relationshipWeightProperty: 'time'\n",
    "})\n",
    "YIELD sourceNode, targetNode, totalCost\n",
    "RETURN gds.util.asNode(sourceNode).name as source, gds.util.asNode(targetNode).name as target, totalCost as TotalMinutes;\n"
   ]
  },
  {
   "cell_type": "markdown",
   "metadata": {},
   "source": [
    "# Combien de temps faut-il pour aller à pied de LADEFENSE à CHATEAUDEVINCENNES (on pourra considérer que tout le chemin se fait à pied, sans considération de relation) ?"
   ]
  },
  {
   "cell_type": "code",
   "execution_count": null,
   "metadata": {
    "vscode": {
     "languageId": "ruby"
    }
   },
   "outputs": [],
   "source": [
    "MATCH (a:Station {name: \"LADEFENSE\"}), (b:Station {name: \"CHATEAUDEVINCENNES\"})\n",
    "WITH SQRT((a.lat - b.lat)^2 + (a.lon - b.lon)^2) as distance_directe_en_metres\n",
    "RETURN distance_directe_en_metres / (4 * 1000) * 60 as temps_en_minutes\n"
   ]
  },
  {
   "cell_type": "markdown",
   "metadata": {},
   "source": [
    "# Est-il plus rapide de faire un changement à SAINTLAZARE pour aller de MONTPARNASSEBIENVENUE à GABRIELPERI ?\n",
    "nous allons créer deux chemins et comparer leur durée.\n",
    "\n",
    "Un chemin direct entre MONTPARNASSEBIENVENUE et GABRIELPERI.\n",
    "Un chemin qui passe par SAINTLAZARE."
   ]
  },
  {
   "cell_type": "code",
   "execution_count": null,
   "metadata": {
    "vscode": {
     "languageId": "ruby"
    }
   },
   "outputs": [],
   "source": [
    "MATCH (start:Station {name: 'MONTPARNASSEBIENVENUE'}), (end:Station {name: 'GABRIELPERI'})\n",
    "CALL gds.shortestPath.dijkstra.stream('my_graph', {\n",
    "    sourceNode: start,\n",
    "    targetNode: end,\n",
    "    relationshipTypes: ['CONNECTS_TO'],\n",
    "    relationshipWeightProperty: 'time'\n",
    "})\n",
    "YIELD totalCost\n",
    "RETURN totalCost AS TotalTime"
   ]
  },
  {
   "cell_type": "markdown",
   "metadata": {},
   "source": [
    "LE chemin direct on obtiens : 14.638 min"
   ]
  },
  {
   "cell_type": "code",
   "execution_count": null,
   "metadata": {
    "vscode": {
     "languageId": "ruby"
    }
   },
   "outputs": [],
   "source": [
    "// Find the shortest time between MONTPARNASSEBIENVENUE and STLAZARE\n",
    "MATCH (start:Station {name: 'MONTPARNASSEBIENVENUE'}), (mid:Station {name: 'STLAZARE'})\n",
    "CALL gds.shortestPath.dijkstra.stream('my_graph', {\n",
    "    sourceNode: start,\n",
    "    targetNode: mid,\n",
    "    relationshipTypes: ['CONNECTS_TO'],\n",
    "    relationshipWeightProperty: 'time'\n",
    "})\n",
    "YIELD totalCost\n",
    "WITH MIN(totalCost) AS timeToMid\n",
    "\n",
    "// Find the correspondence time at STLAZARE\n",
    "MATCH (mid:Station {name: 'STLAZARE'})-[r:CORRESPONDENCE]->()\n",
    "WITH timeToMid, AVG(r.time) AS avgCorrespondenceTime\n",
    "WITH timeToMid, avgCorrespondenceTime\n",
    "\n",
    "// Find the shortest time between STLAZARE and GABRIELPERI\n",
    "MATCH (mid:Station {name: 'STLAZARE'}), (end:Station {name: 'GABRIELPERI'})\n",
    "CALL gds.shortestPath.dijkstra.stream('my_graph', {\n",
    "    sourceNode: mid,\n",
    "    targetNode: end,\n",
    "    relationshipTypes: ['CONNECTS_TO'],\n",
    "    relationshipWeightProperty: 'time'\n",
    "})\n",
    "YIELD totalCost AS timeToEnd\n",
    "WITH timeToMid, avgCorrespondenceTime, timeToEnd\n",
    "\n",
    "// Calculate the total time\n",
    "RETURN timeToMid AS Time_MONTPARNASSEBIENVENUE_to_STLAZARE, avgCorrespondenceTime AS CorrespondenceTime_at_STLAZARE, timeToEnd AS Time_STLAZARE_to_GABRIELPERI, (timeToMid + avgCorrespondenceTime + timeToEnd) AS TotalTime\n"
   ]
  },
  {
   "cell_type": "markdown",
   "metadata": {},
   "source": [
    "LE chemin avec une correspondance = 18.433 minutes\n",
    "Conclusion  :\n",
    "Le chemin le plus court est le chemin direct entre MONTPARNASSEBIENVENUE et GABRIELPERI."
   ]
  },
  {
   "cell_type": "markdown",
   "metadata": {},
   "source": [
    "# Combien de stations se trouvent dans un rayon de 10 stations par train autour de STLAZARE ?\n",
    "2 querry : une avec les noms des stations et la seconde avec le nombre"
   ]
  },
  {
   "cell_type": "code",
   "execution_count": null,
   "metadata": {
    "vscode": {
     "languageId": "ruby"
    }
   },
   "outputs": [],
   "source": [
    "MATCH (start:Station {name: 'STLAZARE'})-[:CONNECTS_TO*1..10]->(other:Station)\n",
    "WHERE start <> other\n",
    "WITH DISTINCT other.name AS DistinctStationNames\n",
    "RETURN DistinctStationNames AS StationsName"
   ]
  },
  {
   "cell_type": "code",
   "execution_count": null,
   "metadata": {
    "vscode": {
     "languageId": "ruby"
    }
   },
   "outputs": [],
   "source": [
    "MATCH (start:Station {name: 'STLAZARE'})-[:CONNECTS_TO*..10]->(other:Station)\n",
    "WHERE start <> other\n",
    "WITH collect(DISTINCT other.name) AS DistinctStations\n",
    "RETURN SIZE(DistinctStations) AS NumberOfDistinctStations"
   ]
  },
  {
   "cell_type": "markdown",
   "metadata": {},
   "source": [
    "Avec shortestPath :"
   ]
  },
  {
   "cell_type": "code",
   "execution_count": null,
   "metadata": {
    "vscode": {
     "languageId": "ruby"
    }
   },
   "outputs": [],
   "source": [
    "MATCH (start:Station {name: 'STLAZARE'})\n",
    "MATCH path = shortestPath((start)-[:CONNECTS_TO*..10]-(other:Station))\n",
    "WHERE LENGTH(path) <= 10 AND start <> other\n",
    "RETURN DISTINCT other.name as StationsName"
   ]
  },
  {
   "cell_type": "code",
   "execution_count": null,
   "metadata": {
    "vscode": {
     "languageId": "ruby"
    }
   },
   "outputs": [],
   "source": [
    "MATCH (start:Station {name: 'STLAZARE'})\n",
    "MATCH path = shortestPath((start)-[:CONNECTS_TO*..10]-(other:Station))\n",
    "WHERE LENGTH(path) <= 10 AND start <> other\n",
    "RETURN COUNT(DISTINCT other.name) as Nombre_Stations"
   ]
  },
  {
   "cell_type": "markdown",
   "metadata": {},
   "source": [
    "# Combien de stations se trouvent dans un rayon de 20 minutes par train autour de STLAZARE ?"
   ]
  },
  {
   "cell_type": "code",
   "execution_count": null,
   "metadata": {
    "vscode": {
     "languageId": "ruby"
    }
   },
   "outputs": [],
   "source": [
    "MATCH (start:Station {name: 'STLAZARE'})\n",
    "MATCH (end:Station) WHERE start <> end\n",
    "CALL gds.shortestPath.dijkstra.stream('my_graph', {\n",
    "    sourceNode: start,\n",
    "    targetNode: end,\n",
    "    relationshipWeightProperty: 'time'\n",
    "})\n",
    "YIELD sourceNode, targetNode, totalCost\n",
    "WHERE totalCost <= 20\n",
    "RETURN COUNT(DISTINCT targetNode) AS NumberOfStations\n"
   ]
  }
 ],
 "metadata": {
  "language_info": {
   "name": "python"
  },
  "orig_nbformat": 4
 },
 "nbformat": 4,
 "nbformat_minor": 2
}
